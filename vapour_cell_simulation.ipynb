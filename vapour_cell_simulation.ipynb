{
  "cells": [
    {
      "cell_type": "markdown",
      "id": "45d02d3c-f945-4ad3-958e-df575502fc5a",
      "metadata": {
        "id": "45d02d3c-f945-4ad3-958e-df575502fc5a"
      },
      "source": [
        "# Calculation sheet for vapour cells"
      ]
    },
    {
      "cell_type": "code",
      "execution_count": null,
      "id": "f9cfeeb5-6338-45c4-bf34-faa6c850b6ab",
      "metadata": {
        "id": "f9cfeeb5-6338-45c4-bf34-faa6c850b6ab"
      },
      "outputs": [],
      "source": [
        "import numpy as np\n",
        "import matplotlib.pyplot as plt\n",
        "from scipy.constants import *"
      ]
    },
    {
      "cell_type": "markdown",
      "id": "12592caf-b9e5-40b0-ba4e-6b50c85ff300",
      "metadata": {
        "id": "12592caf-b9e5-40b0-ba4e-6b50c85ff300"
      },
      "source": [
        "# Coherence time\n",
        "<br>\n",
        "\n",
        "$$\\Gamma =\\frac{1}{T_2} = \\frac{1}{T_1} + \\frac{1}{q_{SE}} R_{SE} + \\Gamma_{gr}$$\n",
        "with :\n",
        "- $R_{SE}$ the rate of spin-exchange collisions\n",
        "- $R_{gr}$ to broadening due to magnetic field gradient across the cell\n",
        "- $T_1$ as follows :\n",
        "$$\\frac{1}{T1} = \\frac{1}{q} (R_{SD} + R_{OP} + R_{pr}) + \\Gamma_{wall}$$\n",
        "The nuclear slowing down factor $q = 2I+1$ in the case of high polarization ($P\\approx 1$) ; $R_{SD}$ is the spins-destruction collision rate ; $R_{OP}$ is the optical pumping rate ; $R_{pr}$ is the absorption rate of photons for a probe beam, irrelevant in our case (probe beam being the same as the excitation beam) ; $\\Gamma_{wall}$ is the depolarization rate due to collisions with the walls of the vapor cell, destroying both electron and nuclear spins. The spins destruction rate decomposes as follows :\n",
        "\n",
        "$$R_{SD} = \\Gamma^{self}_{SD} + \\Gamma^{B}_{SD} + \\Gamma^{Q}_{SD}$$\n",
        "\n",
        "With the first term being the collisions between alkali atoms, the second collisions with buffer gas atoms, the third collisions with quenching gas molecules\n",
        "\n",
        "<br>\n",
        "The general collision rate is given by :\n",
        "$$ \\Gamma_{collisions} = n\\sigma \\bar{v}$$\n",
        "with :\n",
        "$$\\bar{v} = \\sqrt{\\frac{8k_BT}{\\pi M}}$$\n",
        "$$\\frac{1}{M} = \\frac{1}{m} + \\frac{1}{m\\prime}$$\n",
        "with m the masses of the alkali atoms and m' the mass of the perturber ; n the the density of the other gas species ; $\\sigma$ the effective collisional cross section.\n",
        "<br>\n",
        "\n",
        "### Spin exchange relaxation\n",
        "At high density, the spin exchange relaxation is the dominant cause of relaxation. We thus want to reduce it, either by reducing the density (acting on $\\Gamma_{SE} = n_{alkali}\\sigma_{alkali}\\bar{v}$) or by having aa shielding and an extremely low magnetic field, using the so called SERF regime. Here, we are aiming for an unshielded sensor, so the solution will be to reduce the density.\n",
        "In our case, we can assume a 'high' magnetic field (no shielding, earth magnetic field), yielding a Larmor frequency much higher than the spin exchange rate $\\mid \\omega_{\\pm} \\mid \\gg \\Gamma_{SE}$, we thus have :\n",
        "$$\\frac{1}{q_{SE}} = \\frac{2I(2I-1)}{3(2I+1)^2}$$\n",
        "to be plugged back in the equation of the T2.\n",
        "<br>\n",
        "\n",
        "### Spin destruction relaxation\n",
        "The spin destruction relaxation is the second most important mechanism for spin relaxation that do not preserve the total spin of the alkali ensemble. These collisions occur between alkali atoms, or between alkali atoms and buffer and quenching gases, and is thus given by the standard rate for collisions.\n",
        "\n",
        "### Wall collisions\n",
        "The alkali atoms going close to the walls, usually containing ions, will experience an increasing electric field as it gets closer, yielding a magnetic field, which depolarizes the atom. This effect can be mitigated by adding a buffer gas to reduce the probability of collisions with a wall using inert gases, or coatings on the walls to reduce drastically this gradient of electric field experienced by the atom. Wall collisions are completely depolarizing, dominating other spin relaxation mechanisms if not suppressed.\n",
        "<br>\n",
        "Most effective coatings usually melt at 60-80°C, except for OTS up to 170°C (see Scott F. Seltzer PhD Thesis). The point of the coating is to allow atoms to bounces thousands of times before depolarizing, reducing the rate by the same factor.\n",
        "<br>\n",
        "Regarding buffer gases, for a spherical cavity with high pressure inert buffer gaz, the rate is the following :\n",
        "$$\\Gamma_{wall}=\\frac{1}{T_{wall}} = D \\left( \\frac{\\pi}{R} \\right)^2$$\n",
        "with R the radius, pi the constant and $D = \\tfrac{1}{3}\\lambda\\bar{v}$ and $\\lambda$ the mean free path length.\n",
        "\n",
        "### Magnetic field gradients\n",
        "A magnetic field gradient creates a difference in the Larmor frequency of the alkali atoms population, hence a broadening of the resonance. In a coated cell, the alkali atoms travel freely across the cell, sampling the entire volume and average the magnetic field. This somehow removes the gradient effect (motional narrowing).\n",
        "<br>\n",
        "At high buffer pressure, alkali atoms are more limited in space and experience one single Larmor Frequency (slow diffusion). In this regime, the gradient broadening is given by the spread of precession frequencies through the cell as follows :\n",
        "$$\\Gamma_{gr} \\approx \\gamma \\nabla B$$\n",
        "\n",
        "<br><br>\n",
        "In our case, we'll simulate with what the CSEM does at first, and then try to adjust. We assume the pressure flexible, and that we use the following vapor :\n",
        "$$RbN_3 \\rightarrow Rb + \\tfrac{3}{2}N_2$$\n",
        "**We must find the max values of each decoherence factor in order to achieve a $\\Gamma$ close to 1 - 3000 Hz.**"
      ]
    },
    {
      "cell_type": "code",
      "execution_count": null,
      "id": "9949272d-9622-41bd-bb23-3a225b8017fe",
      "metadata": {
        "id": "9949272d-9622-41bd-bb23-3a225b8017fe"
      },
      "outputs": [],
      "source": [
        "## functions for the different spin relaxation mechanisms\n",
        "\n",
        "def v_mean(T, M):\n",
        "    v = np.sqrt((8*k*T)/(pi*M))\n",
        "    return v\n",
        "\n",
        "def collision_mechanism(n, sigma, v_mean):\n",
        "    R_col = n*sigma*v_mean\n",
        "    return R_col\n",
        "\n",
        "def inverse_reduced_mass(m1,m2):\n",
        "    inverse_reduced_mass = 1/m1 + 1/m2\n",
        "    return inverse_reduced_mass\n",
        "\n",
        "def nuclear_slowing_down_factor(I):\n",
        "    q = 2*I+1\n",
        "    return q\n",
        "\n",
        "def nuclear_slowing_down_factor_spin_exchange(I):\n",
        "    q_SE = (3*(2*I+1)**2)/(2*I*(2*I-1))\n",
        "    return q_SE\n",
        "\n",
        "def number_density(P, T):\n",
        "    n = (P)/(k*T)\n",
        "    return n\n",
        "\n",
        "def matter_quantity(P, V, T):\n",
        "    n = (P*V)/(R*T)\n",
        "    return n"
      ]
    },
    {
      "cell_type": "code",
      "execution_count": null,
      "id": "7f6fbe4c-6352-4b41-a6e6-6a61fafa2c2e",
      "metadata": {
        "id": "7f6fbe4c-6352-4b41-a6e6-6a61fafa2c2e"
      },
      "outputs": [],
      "source": [
        "## Numbers we want\n",
        "V = 3e-3*3e-3*1.9e-3 #m^3\n",
        "P = 3e-1 #Pa\n",
        "T_ideal = 273.15+25\n",
        "\n",
        "\n",
        "## useful values, the 1e-4 factor is to turn from cm^2 to m^2\n",
        "## Values taken from [1]\n",
        "sigma_SE_self = 1.9e-14 * 1e-4 #m^2\n",
        "sigma_SD_self = 1.6e-17 * 1e-4\n",
        "sigma_SD_N2 = 1e-22 * 1e-4\n",
        "sigma_Q_n2 = 5.8e-15 * 1e-4\n",
        "D_N2 = 0.19 * 1e-4\n",
        "m_Rb = 1.44e-25 #kg, for 87Rb\n",
        "m_N2 = 4.65e-26\n",
        "I_Rb = 3/2\n",
        "gamma_Rb = 7e9\n",
        "r_e = 2.82e-15 #m\n",
        "f_D1 = 0.332\n",
        "## Values taken from [2]\n",
        "sigma_D1_absorption = 1.082e-13 #m^2 from Table 7, Rubidium 87 D Line Data, Daniel A. Steck\n",
        "Gamma_natural = 36.10e6 #Hz"
      ]
    },
    {
      "cell_type": "markdown",
      "id": "62fc66fc-395d-476d-be80-80a68c3f1c84",
      "metadata": {
        "id": "62fc66fc-395d-476d-be80-80a68c3f1c84"
      },
      "source": [
        "### Spin Exhange Relaxation Rate\n",
        "This relaxation rate will be given by $\\Gamma_{SE} = \\frac{1}{q_{SE}}  R_{SE}$. <br>\n",
        "In the case of Rb atoms, $I = \\tfrac{3}{2}$. <br>\n",
        "The interaction takes place between alkali atoms only, no need for reduced mass."
      ]
    },
    {
      "cell_type": "code",
      "execution_count": null,
      "id": "05bb1888-1060-4b5f-ad24-53abf9959bbe",
      "metadata": {
        "id": "05bb1888-1060-4b5f-ad24-53abf9959bbe"
      },
      "outputs": [],
      "source": [
        "q_SE_Rb = nuclear_slowing_down_factor_spin_exchange(I_Rb)\n",
        "\n",
        "v_mean_Rb = v_mean(T_ideal, m_Rb)\n",
        "\n",
        "n_Rb = (2/5)*number_density(P, T_ideal)\n",
        "R_SE = collision_mechanism(n_Rb, sigma_SE_self, v_mean_Rb) #Hz\n",
        "\n",
        "Gamma_SE = (R_SE*(1/q_SE_Rb))"
      ]
    },
    {
      "cell_type": "code",
      "execution_count": null,
      "id": "b1f77a9a-6744-4ec4-911c-b1389571a42e",
      "metadata": {
        "id": "b1f77a9a-6744-4ec4-911c-b1389571a42e",
        "outputId": "0c9ed626-f2dd-4a7b-f9f3-48a069c3627f",
        "scrolled": true
      },
      "outputs": [
        {
          "data": {
            "text/plain": [
              "1867.9903267147693"
            ]
          },
          "execution_count": 8,
          "metadata": {},
          "output_type": "execute_result"
        }
      ],
      "source": [
        "Gamma_SE"
      ]
    },
    {
      "cell_type": "markdown",
      "id": "329cc4ea-6a75-4471-b250-2f8243678936",
      "metadata": {
        "id": "329cc4ea-6a75-4471-b250-2f8243678936"
      },
      "source": [
        "### Spin Destruction Relaxation Rate\n",
        "This relaxation is given only by the collision between alkali atoms and buffer gas, quenching gas, or between alkali atoms only. <br>"
      ]
    },
    {
      "cell_type": "code",
      "execution_count": null,
      "id": "2f22d506-4ad0-474e-82dd-3ee05b92f6d6",
      "metadata": {
        "id": "2f22d506-4ad0-474e-82dd-3ee05b92f6d6"
      },
      "outputs": [],
      "source": [
        "reduced_mass = 1/inverse_reduced_mass(m_N2, m_Rb)\n",
        "v_mean_N2 = v_mean(T_ideal, reduced_mass)\n",
        "n_N2 = (3/5)*number_density(P, T_ideal)\n",
        "\n",
        "R_SD_self = collision_mechanism(n_Rb, sigma_SD_self, v_mean_Rb)\n",
        "R_SD_N2 = collision_mechanism(n_N2, sigma_SD_N2, v_mean_N2)\n",
        "R_SD_Q = 0\n",
        "\n",
        "R_SD = R_SD_self + R_SD_N2 + R_SD_Q"
      ]
    },
    {
      "cell_type": "code",
      "execution_count": null,
      "id": "be1a125e-6e4b-4cdb-9940-bf01885e7605",
      "metadata": {
        "id": "be1a125e-6e4b-4cdb-9940-bf01885e7605",
        "outputId": "fc88eff3-a784-4007-8f87-d94d04d512a5"
      },
      "outputs": [
        {
          "data": {
            "text/plain": [
              "12.584594679165514"
            ]
          },
          "execution_count": 11,
          "metadata": {},
          "output_type": "execute_result"
        }
      ],
      "source": [
        "R_SD"
      ]
    },
    {
      "cell_type": "markdown",
      "id": "60e68ae0-a523-47df-8a3b-7e72f1b58841",
      "metadata": {
        "id": "60e68ae0-a523-47df-8a3b-7e72f1b58841"
      },
      "source": [
        "### Wall Collisions\n",
        "\n",
        "Regarding buffer gases, for a spherical cavity with high pressure inert buffer gaz, the rate is the following :\n",
        "$$\\Gamma_{wall} = \\frac{1}{T_{wall}} = D \\left( \\frac{\\pi}{R} \\right)^2$$\n",
        "with R the radius, pi the constant and $D = \\tfrac{1}{3}\\lambda\\bar{v}$ and $\\lambda$ the mean free path length. For the sake of us, the $D_0^{N_2} = 0.19 \\,cm^2.s^{-1}$ is given in Developments in Alkali-Metal Atomic Magnetometer, Scott F. Seltzer, table A.2.\n",
        "<br>\n",
        "Here, the cell isn't spherical, but a cylinder where the beam will cross through its height. The polarization function is approximated as its fundamental diffusion mode :\n",
        "$$ P(r,t) = \\frac{sin(kr)}{kr}e^{- \\tfrac{t}{T_{wall}}}$$\n",
        "with the boundary condition $P(h)=0$ yields $k= \\frac{\\pi}{h}$"
      ]
    },
    {
      "cell_type": "code",
      "execution_count": null,
      "id": "a158f949-ec25-4827-980c-758c0c9bd67d",
      "metadata": {
        "id": "a158f949-ec25-4827-980c-758c0c9bd67d"
      },
      "outputs": [],
      "source": [
        "height_cell = 1.9e-3 #m^3\n",
        "\n",
        "Gamma_wall = D_N2*(pi/height_cell)**2"
      ]
    },
    {
      "cell_type": "code",
      "execution_count": null,
      "id": "5011cf6d-346f-4fcf-8788-eafcd68ab458",
      "metadata": {
        "id": "5011cf6d-346f-4fcf-8788-eafcd68ab458",
        "outputId": "f3529066-66a7-411f-eccf-ab6a79692d22"
      },
      "outputs": [
        {
          "data": {
            "text/plain": [
              "51.94528632152294"
            ]
          },
          "execution_count": 163,
          "metadata": {},
          "output_type": "execute_result"
        }
      ],
      "source": [
        "Gamma_wall"
      ]
    },
    {
      "cell_type": "markdown",
      "id": "7a4c5670-36f8-4956-8f4f-1d802e652484",
      "metadata": {
        "id": "7a4c5670-36f8-4956-8f4f-1d802e652484"
      },
      "source": [
        "### Magnetic Field Gradient\n",
        "\n",
        "We, for now, assume this one as irrelevant since we'll have a very homogeneous field across the cell for the benchtop experiment. If more data about the gradient strength of the heart magnetic field is acquired, just plug it in!\n",
        "The expression is the following :\n",
        "$$\\Gamma_{gr} \\approx \\gamma \\nabla B$$"
      ]
    },
    {
      "cell_type": "code",
      "execution_count": null,
      "id": "e81e72df-8f4b-4bed-892c-ef5479d1533d",
      "metadata": {
        "id": "e81e72df-8f4b-4bed-892c-ef5479d1533d"
      },
      "outputs": [],
      "source": [
        "grad_B = 0\n",
        "\n",
        "Gamma_gradient = gamma_Rb*grad_B"
      ]
    },
    {
      "cell_type": "code",
      "execution_count": null,
      "id": "61257ad8-f2ef-4223-9da8-13e90fd0c94c",
      "metadata": {
        "id": "61257ad8-f2ef-4223-9da8-13e90fd0c94c",
        "outputId": "1d4b35b6-b797-48af-a1a9-c6d6eca155d5"
      },
      "outputs": [
        {
          "data": {
            "text/plain": [
              "0.0"
            ]
          },
          "execution_count": 17,
          "metadata": {},
          "output_type": "execute_result"
        }
      ],
      "source": [
        "Gamma_gradient"
      ]
    },
    {
      "cell_type": "markdown",
      "id": "969d5dd7-8545-46d1-993c-6c091f6640e3",
      "metadata": {
        "id": "969d5dd7-8545-46d1-993c-6c091f6640e3"
      },
      "source": [
        "### Optical Absorption Rate\n",
        "\n",
        "The optical absorption rate can be generally described as follows :\n",
        "$$R_{abs} = \\sum_{res} \\sigma(\\nu)\\phi(\\nu)$$\n",
        "with $\\sigma(\\nu)$ the cross section per resonant frequency and $\\phi(\\nu)$ the optial flux per resonant frequency. In our case, we're using a laser at 795nm, which collapses the sum.\n",
        "<br>\n",
        "The optical flux is easily computed as the amount of photon per area per time $\\phi(\\nu) = \\frac{I}{E_{photon}} = \\frac{\\tfrac{P_{laser}}{A}}{E_{photon}}$, the cross section will be taken from Rubidium 87 D Line Data, Daniel A. Steck, table 7. <br>\n",
        "Nevertheless, the optical power might be too large and we must take into account the saturation of the Rb atoms. For that, we use the natural spontaneous decay time also given in Rubidium 87 D Line Data, Daniel A. Steck, table 4, as $\\Gamma_{natural} = 36.10 \\, MHz$.\n",
        "<br>\n",
        "We will also need the saturation intensity, given as $I_{sat} = 44.84 \\, W.m^{-2}$. <br>\n",
        "With saturation effects, we have :\n",
        "We have $$\\Gamma_{abs} = \\sigma_{abs}\\phi$$\n",
        "in the case of saturation, we have\n",
        "$$\\Gamma_{abs} = \\Gamma_{natural}$$\n",
        "$$\\sigma_{abs}\\phi = \\Gamma_{natural}$$\n",
        "since $\\phi = \\frac{I}{h\\nu}$, we have:\n",
        "$$\\frac{I_{sat}}{h\\nu}\\sigma_{abs} = \\Gamma_{natural}$$\n",
        "Hence\n",
        "$$I_{sat} = \\frac{h\\nu\\Gamma_{natural}}{\\sigma_{abs}}$$\n",
        "\n",
        "That way, computing $R_{abs}$ with saturation effect leads to :\n",
        "$$R_{abs} = R_{sat} \\cdot  \\frac{\\tfrac{I}{I_{sat}}}{1+\\tfrac{I}{I_{sat}}}$$\n",
        "As in $R_{abs}$ will be a portion of the maximum $R_{sat}$ if $I\\ll I_{max}$ and equal to $R_{sat}$ if $I \\gg I_{sat}$.\n",
        "$I_{sat}$ represents here the intensity at which the system moves from linear absorption to saturated absorption."
      ]
    },
    {
      "cell_type": "code",
      "execution_count": null,
      "id": "5694f70f-5315-4fac-9b35-0ddf263fff89",
      "metadata": {
        "colab": {
          "base_uri": "https://localhost:8080/"
        },
        "id": "5694f70f-5315-4fac-9b35-0ddf263fff89",
        "outputId": "4e28d2ba-bde1-40fe-ac9b-71852d130434"
      },
      "outputs": [
        {
          "name": "stdout",
          "output_type": "stream",
          "text": [
            "the absorption rate is : 2.118E+07 Hz\n"
          ]
        }
      ],
      "source": [
        "## Laser paremeters ##\n",
        "laser_wavelength = 795e-9\n",
        "P_laser = 0.2e-3\n",
        "beam_diameter = 1e-3 #m\n",
        "I = P_laser/(4*pi*(beam_diameter/2)**2)\n",
        "photon_flux = I/((h*c)/laser_wavelength)\n",
        "\n",
        "I_sat = 44.84\n",
        "\n",
        "R_abs = Gamma_natural * (I)/(I+I_sat)\n",
        "\n",
        "#R_abs = sigma_D1_absorption*photon_flux #Cannot work, units issue, find the value of the cross section, not the integrated one over the frequency\n",
        "\n",
        "R_OP = R_abs\n",
        "print('the absorption rate is : {:.3E} Hz'.format(R_abs))"
      ]
    },
    {
      "cell_type": "code",
      "execution_count": null,
      "id": "zQyBWnj16tLm",
      "metadata": {
        "colab": {
          "base_uri": "https://localhost:8080/"
        },
        "id": "zQyBWnj16tLm",
        "outputId": "5209d885-365a-4b41-a917-c548397f71a6"
      },
      "outputs": [
        {
          "data": {
            "text/plain": [
              "27567525.1868601"
            ]
          },
          "execution_count": 8,
          "metadata": {},
          "output_type": "execute_result"
        }
      ],
      "source": [
        "R_op_no_sat = sigma_D1_absorption*photon_flux\n",
        "R_op_no_sat"
      ]
    },
    {
      "cell_type": "code",
      "execution_count": null,
      "id": "7b9907e7-81ff-4163-bdd0-898a1c741345",
      "metadata": {
        "id": "7b9907e7-81ff-4163-bdd0-898a1c741345",
        "outputId": "3a1a2629-988e-401f-df8a-45189fb1ec9b"
      },
      "outputs": [
        {
          "data": {
            "text/plain": [
              "0.8502777619381945"
            ]
          },
          "execution_count": 173,
          "metadata": {},
          "output_type": "execute_result"
        }
      ],
      "source": [
        "R_abs/Gamma_natural"
      ]
    },
    {
      "cell_type": "markdown",
      "id": "4f42640a-f81a-45c0-a38f-854fbb8e7186",
      "metadata": {
        "id": "4f42640a-f81a-45c0-a38f-854fbb8e7186"
      },
      "source": [
        "### Compute the $\\Gamma$ value\n",
        "\n",
        "We now should have everything to compute the value for our given parameters.\n",
        "$$\\Gamma = \\frac{1}{T_2} = \\frac{1}{q} (R_{SD}+R_{OP}+R_{pr}) + \\frac{1}{q_{SE}}R_{SE} + \\Gamma_{gr} + \\Gamma_{wall}$$\n",
        "with $R_{pr}$ and $\\Gamma_{gr}$ irrelevant for us."
      ]
    },
    {
      "cell_type": "code",
      "execution_count": null,
      "id": "6c0d5a24-f3ee-4907-8a5f-c1aebc41e3a4",
      "metadata": {
        "id": "6c0d5a24-f3ee-4907-8a5f-c1aebc41e3a4"
      },
      "outputs": [],
      "source": [
        "q = nuclear_slowing_down_factor(3/2)\n",
        "\n",
        "Gamma = 1/q * (R_SD + R_OP) + Gamma_SE + Gamma_gradient + Gamma_wall"
      ]
    },
    {
      "cell_type": "code",
      "execution_count": null,
      "id": "551f8206-c9c4-475e-8653-c900fb68b00a",
      "metadata": {
        "id": "551f8206-c9c4-475e-8653-c900fb68b00a",
        "outputId": "298b8305-f22f-4342-b93e-1192631d2762"
      },
      "outputs": [
        {
          "data": {
            "text/plain": [
              "7675679.883253911"
            ]
          },
          "execution_count": 185,
          "metadata": {},
          "output_type": "execute_result"
        }
      ],
      "source": [
        "Gamma"
      ]
    },
    {
      "cell_type": "code",
      "execution_count": null,
      "id": "8d871687-47b6-47f3-ba79-ea68c1f15f1d",
      "metadata": {
        "id": "8d871687-47b6-47f3-ba79-ea68c1f15f1d"
      },
      "outputs": [],
      "source": [
        "Gamma_no_ROP = 1/q * (R_SD) + Gamma_SE + Gamma_gradient + Gamma_wall"
      ]
    },
    {
      "cell_type": "code",
      "execution_count": null,
      "id": "6184b8aa-2ae4-47e5-a0db-9ea467cabc3e",
      "metadata": {
        "id": "6184b8aa-2ae4-47e5-a0db-9ea467cabc3e",
        "outputId": "0fc11c36-990b-4eeb-e3f9-11848a447722"
      },
      "outputs": [
        {
          "data": {
            "text/plain": [
              "1923.0817617060834"
            ]
          },
          "execution_count": 189,
          "metadata": {},
          "output_type": "execute_result"
        }
      ],
      "source": [
        "Gamma_no_ROP"
      ]
    },
    {
      "cell_type": "markdown",
      "id": "37b34a6b-174f-443e-a77e-1832837db721",
      "metadata": {
        "id": "37b34a6b-174f-443e-a77e-1832837db721"
      },
      "source": [
        "# Calculations using the assumed Bloch equation solution\n",
        "\n",
        "We assume the following expression [3] as true\n",
        "$$ M_{pump} \\approx \\tfrac{1}{2} M_0 \\gamma B_1 \\sin^2(\\theta) \\cos(\\theta) \\frac{\\Gamma \\sin(\\omega t)+ (\\omega - \\gamma B_0)\\cos(\\omega t)}{\\Gamma^2 + (\\omega - \\gamma B_0)^2}$$\n",
        "With\n",
        "- $B_0$ : the field to be measured\n",
        "- $B_1$ : the RF field to pump the spins\n",
        "- $\\gamma$ : the gyromagnetic ratio\n",
        "- $M_0$ : the theoretical maximum magnetization (pump light along z-axis without any relaxation)\n",
        "- $\\theta$ : the angle between the z-axis and the laser field and $B_1$\n",
        "-  $\\Gamma = \\Gamma_{SE} + \\Gamma_{SD} + \\Gamma_{wall} + \\Gamma_{gradient} + R_{op}$ the total relaxation\n",
        "- $\\omega$ : the frequency of the RF field"
      ]
    },
    {
      "cell_type": "code",
      "execution_count": null,
      "id": "F_dMlIHgVSaH",
      "metadata": {
        "id": "F_dMlIHgVSaH"
      },
      "outputs": [],
      "source": [
        "M_0 ="
      ]
    },
    {
      "cell_type": "code",
      "execution_count": null,
      "id": "7OTV48lYUJMA",
      "metadata": {
        "id": "7OTV48lYUJMA"
      },
      "outputs": [],
      "source": [
        "M_pump = 1/2 * M_0 * gamma_Rb * B_1 * np.sin(theta)**2 * cos(theta) * (Gamma_no_RP * sin(omega * t) + (omega - gamma_Rb*B_0) cos(omega * t)) / (Gamma**2 + (omega - gamma_Rb * B_0)**2)"
      ]
    },
    {
      "cell_type": "markdown",
      "id": "90ed9852-3a5e-4dfc-8d2d-26ad3bda7123",
      "metadata": {
        "id": "90ed9852-3a5e-4dfc-8d2d-26ad3bda7123"
      },
      "source": [
        "### Assumptions & remarks\n",
        "\n",
        "The part about the optical pumping is flawed, must remake it dynamically considering the evolution of the populations in the system (2-level system, typically) <br>\n",
        "The $\\Gamma_{wall}$ is calculated under the assumption of high buffer gas pressure, which isn't the case since we want a cell with low pressure. To be adjusted, also the formula seems weird, a longer mean free path induces a shorter spin relaxation time, doesn't make sense to me. <br>"
      ]
    },
    {
      "cell_type": "markdown",
      "id": "1bb0752e-7106-46fe-a62f-a9fe1da3e662",
      "metadata": {
        "id": "1bb0752e-7106-46fe-a62f-a9fe1da3e662"
      },
      "source": [
        "### Sources :\n",
        "\n",
        "[1] : 'Developments in Alkali-Metal Atomic Magnetometers', Scott F. Seltzer. <br>\n",
        "[2] : 'Rubidium 87 D Line Data', Daniel A. Steck\n",
        "<br>\n",
        "[3] : 'A moveable unshielded magnetocardiography system', W Xiao, C Sun, L Shen et al.\n"
      ]
    },
    {
      "cell_type": "code",
      "execution_count": null,
      "id": "d9f01103-e350-4030-a1d8-0447fc0c1033",
      "metadata": {
        "id": "d9f01103-e350-4030-a1d8-0447fc0c1033"
      },
      "outputs": [],
      "source": []
    }
  ],
  "metadata": {
    "colab": {
      "provenance": []
    },
    "kernelspec": {
      "display_name": "Python 3 (ipykernel)",
      "language": "python",
      "name": "python3"
    },
    "language_info": {
      "codemirror_mode": {
        "name": "ipython",
        "version": 3
      },
      "file_extension": ".py",
      "mimetype": "text/x-python",
      "name": "python",
      "nbconvert_exporter": "python",
      "pygments_lexer": "ipython3",
      "version": "3.12.7"
    }
  },
  "nbformat": 4,
  "nbformat_minor": 5
}
