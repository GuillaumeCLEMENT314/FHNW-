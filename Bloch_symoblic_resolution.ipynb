{
 "cells": [
  {
   "cell_type": "markdown",
   "metadata": {},
   "source": [
    "# Symbolic description of the system through perturbative approach.\n",
    "\n",
    "We hereby define the following system :\n",
    "\n",
    "$$ \\partial_t \\hat{S} = \\gamma \\hat{S} \\wedge \\vec{B} - \\Gamma \\hat{S} + R_{op} (S_0 - \\hat{S})$$\n",
    "\n",
    "with :\n",
    "- $\\hat{S} = \\hat{S}_{ss} + \\delta S$\n",
    "- $\\vec{B}_ss = (0,B_0,0), \\delta B = (0,0,B_1), \\vec{B} = \\vec{B}+ \\vec{\\delta B}$\n",
    "- $\\Gamma$ : relaxation rate\n",
    "- $R_{op} = \\sigma_{abs}\\phi_{opt}$ : pumping rate\n",
    "- "
   ]
  },
  {
   "cell_type": "code",
   "execution_count": null,
   "metadata": {},
   "outputs": [],
   "source": []
  }
 ],
 "metadata": {
  "kernelspec": {
   "display_name": "Python 3",
   "language": "python",
   "name": "python3"
  },
  "language_info": {
   "name": "python",
   "version": "3.11.9"
  }
 },
 "nbformat": 4,
 "nbformat_minor": 2
}
