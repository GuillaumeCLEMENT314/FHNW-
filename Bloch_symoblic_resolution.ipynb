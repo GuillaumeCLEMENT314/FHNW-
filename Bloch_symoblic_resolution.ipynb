{
 "cells": [
  {
   "cell_type": "markdown",
   "metadata": {},
   "source": [
    "# Symbolic description of the system through perturbative approach.\n",
    "\n",
    "We hereby define the following system :\n",
    "\n",
    "$$ \\partial_t \\hat{S} = \\gamma \\hat{S} \\wedge \\vec{B} - \\Gamma \\hat{S} + R_{op} (S_0 - \\hat{S})$$\n",
    "\n",
    "with :\n",
    "- $\\hat{S} = \\hat{S}_{ss} + \\delta S$\n",
    "- $\\vec{B}_{ss} = (0,B_0,0), \\delta B = (0,0,\\delta B_1), \\vec{B} = \\vec{B}+ \\vec{\\delta B}$\n",
    "- $\\Gamma$ : relaxation rate\n",
    "- $R_{op} = \\sigma_{abs}\\phi_{opt}$ : pumping rate\n",
    "- $S_0$ : the maximum polarization of our spin in the case of no magnetic field and relaxation\n",
    "\n",
    "We write the equation with the steady state equation and the perturbation\n",
    "\n",
    "The steady state equation is the solution of the following system:\n",
    "\n",
    "$$\\partial_t S_{ss} = \\begin{pmatrix} -\\gamma B_0 S_z \\\\ 0 \\\\ \\gamma B_0 S_x \\end{pmatrix} - \\Gamma S_{ss} + R_{op} (S_0\\hat{z} - S_{ss})$$\n",
    "\n",
    "Now our total equation becomes the following :\n",
    "\n",
    "$$\\partial_t S_{ss} + \\partial_t \\delta S = \\gamma \\begin{pmatrix} S_x + \\delta S_x \\\\ S_y + \\delta S_y \\\\ S_z + \\delta S_z \\end{pmatrix} \\wedge \\begin{pmatrix} 0 \\\\ B_0 \\\\ \\delta B_1(t) \\end{pmatrix} - \\Gamma S+\\delta S + R_{op} (S_0\\hat{z} - S+\\delta S)$$"
   ]
  },
  {
   "cell_type": "markdown",
   "metadata": {},
   "source": [
    "### Steady state solution :\n",
    "$$\\partial_t S_{ss} = 0$$\n",
    "\n",
    "$$\\begin{cases} - \\gamma B_0 S_z - \\Gamma S_x - R_{op} S_x = 0  \\\\\n",
    " -(\\Gamma + R_{op}) S_y = 0 \\\\\n",
    " \\gamma B_0 S_x - \\Gamma S_z + R_{op}(S_0 - S_z) = 0  \\end{cases}$$\n",
    "\n",
    "Leading to the steady state solutions:\n",
    "\n",
    "$$\\begin{cases} S_x = -\\frac{R_{op}S_0 \\gamma B_0}{(\\gamma B_0)^2 - (\\Gamma+R_{op})^2} \\\\\n",
    "S_y = 0 \\\\\n",
    "S_z = \\frac{(\\Gamma+R_{op})R_{op}S_0}{(\\gamma B_0)^2 - (\\Gamma+R_{op})^2} \\end{cases}$$"
   ]
  },
  {
   "cell_type": "markdown",
   "metadata": {},
   "source": [
    "### Perturbative solutions\n",
    "\n",
    "We now have the following system :\n",
    "\n",
    "$$\\partial_t S_{ss} + \\partial_t \\delta S = \\begin{pmatrix} (S_y + \\delta S_y) \\delta B_1 - (S_z + \\delta S_z) B_0 \\\\\n",
    "                                                            -(S_x + \\delta S_x) \\delta B_1(t) \\\\\n",
    "                                                            (S_x + \\delta S_x) B_0 \n",
    "                                            \\end{pmatrix}\n",
    "                                            - \\Gamma (S_{ss} + \\delta S) + R_{op} (S_0 \\hat{z} - S+\\delta S)$$\n",
    "\n",
    "We assume that the product of two $\\delta$ leads to 0, and that $\\partial_t S_{ss} = 0$, and already know that $S_y = 0$, remove the terms that are exactly the same as the ones of the steady state equation and we thus get :\n",
    "\n",
    "$$ \\begin{cases} \\partial_t \\delta S_x = -  \\delta S_z B_0 - \\Gamma \\delta S_x - R_{op} \\delta S_x\\\\\n",
    "                \\partial_t \\delta S_y = -\\gamma \\delta B_1(t) S_x - \\Gamma \\delta S_y - R_{op} \\delta S_y\\\\\n",
    "                \\partial_t \\delta S_z = \\gamma B_0 \\delta S_x - \\Gamma \\delta S_z - R_{op} (S_0 - \\delta S_z) \\end{cases}$$\n",
    "\n",
    "We suppose a solution of the type $\\delta S_i(t) = \\delta S_i e^{-i\\omega t}$ and its time derivative $\\partial_t \\delta S_i(t) = -i\\omega t \\delta S e^{-i\\omega t}$.\n",
    "The exponential appearing everywhere except in the term $-\\gamma \\delta B_1 S_x$, we can remove it and just add the complex exponential to this one term, giving us the following system :\n",
    "\n",
    "$$ \\begin{cases} -i \\omega \\delta S_x = -  \\delta S_z B_0 - \\Gamma \\delta S_x - R_{op} \\delta S_x\\\\\n",
    "                -i \\omega \\delta S_y = -\\gamma \\delta B_1(t) S_x e^{i \\omega t} - \\Gamma \\delta S_y - R_{op} \\delta S_y\\\\\n",
    "                -i \\omega \\delta S_z = \\gamma B_0 \\delta S_x - \\Gamma \\delta S_z - R_{op} (S_0 - \\delta S_z) \\end{cases}$$\n",
    "\n",
    "Since $\\delta B_1 = \\delta B_1 \\cos(\\omega_{rf} t)$, we have $\\delta \\frac{B_1}{2} (e^{-i \\omega_{rf} t} + e^{i \\omega_{rf} t}) e^{i\\omega t}$\n",
    "We assume that $\\omega_{rf} \\approx \\omega$, such that the term $e^{i (\\omega_{rf}+\\omega)t}$ is assumed as fast oscillating and averaged to 0. We will note $\\omega - \\omega_{rf} = \\Delta \\omega$\n",
    "\n",
    "Our final system is thus :\n",
    "\n",
    "$$ \\begin{cases} -i \\omega \\delta S_x = -  \\delta S_z B_0 - \\Gamma \\delta S_x - R_{op} \\delta S_x\\\\\n",
    "                -i \\omega \\delta S_y = -\\gamma \\delta B_1(t) S_x e^{i \\Delta \\omega t} - \\Gamma \\delta S_y - R_{op} \\delta S_y\\\\\n",
    "                -i \\omega \\delta S_z = \\gamma B_0 \\delta S_x - \\Gamma \\delta S_z - R_{op} (S_0 - \\delta S_z) \\end{cases}$$"
   ]
  },
  {
   "cell_type": "markdown",
   "metadata": {},
   "source": [
    "Out of laziness, we enter this system in the following sympy solver:"
   ]
  },
  {
   "cell_type": "code",
   "execution_count": 1,
   "metadata": {},
   "outputs": [
    {
     "name": "stdout",
     "output_type": "stream",
     "text": [
      "Solution(s) for x, y, z:\n",
      "  Solution 1:\n",
      "    x = B0*R_op*S0*gamma/(-B0**2*gamma**2 - Gamma**2 - 2*Gamma*R_op + 2*I*Gamma*w - R_op**2 + 2*I*R_op*w + w**2)\n",
      "    y = -I*B1*Sx*gamma/(I*Gamma + I*R_op + w)\n",
      "    z = (-Gamma*R_op*S0 - R_op**2*S0 + I*R_op*S0*w)/(-B0**2*gamma**2 - Gamma**2 - 2*Gamma*R_op + 2*I*Gamma*w - R_op**2 + 2*I*R_op*w + w**2)\n"
     ]
    }
   ],
   "source": [
    "import sympy\n",
    "from sympy import symbols, Eq, solve, I\n",
    "\n",
    "def solve_system_symbolically():\n",
    "    # Define parameters (symbolic). \n",
    "    # We allow them to be complex=True because of the i*w terms,\n",
    "    # but you may restrict some to real if you prefer.\n",
    "    w, gamma, B0 = symbols('w gamma B0', complex=True)\n",
    "    delta, B1 = symbols('delta B1', complex=True)\n",
    "    Sx_par = sympy.Symbol('Sx', complex=True)  # 'Sx' is treated as a parameter here\n",
    "    Gamma_ = sympy.Symbol('Gamma', complex=True)\n",
    "    R_op = sympy.Symbol('R_op', complex=True)\n",
    "    S0 = sympy.Symbol('S0', complex=True)\n",
    "    \n",
    "    # Define the unknowns x, y, z (potentially complex)\n",
    "    x, y, z = symbols('x y z', complex=True)\n",
    "    \n",
    "    # The system from the image, rewritten so that each equation = 0:\n",
    "    #\n",
    "    # 1) -i w x = - gamma * z * B0 - Gamma * x - R_op * x\n",
    "    #    --> -i w x + gamma B0 z + (Gamma + R_op) x = 0\n",
    "    eq1 = Eq(-I*w*x + gamma*B0*z + (Gamma_ + R_op)*x, 0)\n",
    "    \n",
    "    # 2) -i w y = - delta * B1 * Sx - Gamma * y - R_op * y\n",
    "    #    --> -i w y + delta B1 Sx + (Gamma + R_op) y = 0\n",
    "    eq2 = Eq(-I*w*y + gamma*B1*Sx_par + (Gamma_ + R_op)*y, 0)\n",
    "    \n",
    "    # 3) -i w z = gamma * B0 * x - Gamma * z + R_op (S0 - z)\n",
    "    #    --> -i w z - gamma B0 x + (Gamma + R_op) z - R_op * S0 = 0\n",
    "    eq3 = Eq(-I*w*z - gamma*B0*x + (Gamma_ + R_op)*z - R_op*S0, 0)\n",
    "    \n",
    "    # Solve for x, y, z symbolically\n",
    "    sol = solve([eq1, eq2, eq3], [x, y, z], dict=True)\n",
    "    \n",
    "    # Print the solution(s)\n",
    "    print(\"Solution(s) for x, y, z:\")\n",
    "    for i, s in enumerate(sol, 1):\n",
    "        print(f\"  Solution {i}:\")\n",
    "        print(f\"    x = {s[x]}\")\n",
    "        print(f\"    y = {s[y]}\")\n",
    "        print(f\"    z = {s[z]}\")\n",
    "\n",
    "if __name__ == \"__main__\":\n",
    "    solve_system_symbolically()"
   ]
  },
  {
   "cell_type": "markdown",
   "metadata": {},
   "source": [
    "Which translated back to latex gives us:\n",
    "\n",
    "$$\\begin{cases}\n",
    "\\delta S_x = \\frac{B_0\\, R_{\\text{op}}\\, S_0\\, \\gamma}\n",
    "{\\,-B_0^{2}\\,\\gamma^{2} \\;-\\; \\Gamma^{2} \\;-\\; 2\\,\\Gamma\\,R_{\\text{op}} \\;+\\; 2\\,\\mathrm{i}\\,\\Gamma\\,\\omega \\;-\\; R_{\\text{op}}^{2} \\;+\\; 2\\,\\mathrm{i}\\,R_{\\text{op}}\\,\\omega \\;+\\; \\omega^{2}} \\\\\n",
    "\n",
    "\\delta S_y = \\frac{-\\,\\mathrm{i}\\,B_1\\,S_x\\,\\delta}\n",
    "{\\mathrm{i}\\,\\Gamma \\;+\\; \\mathrm{i}\\,R_{\\text{op}} \\;+\\; \\omega} \\\\\n",
    "\n",
    "\\delta S_z = \\frac{-\\,\\Gamma\\,R_{\\text{op}}\\,S_0 \\;-\\; R_{\\text{op}}^{2}\\,S_0 \\;+\\; \\mathrm{i}\\,R_{\\text{op}}\\,S_0\\,\\omega}\n",
    "{\\,-B_0^{2}\\,\\gamma^{2} \\;-\\; \\Gamma^{2} \\;-\\; 2\\,\\Gamma\\,R_{\\text{op}} \\;+\\; 2\\,\\mathrm{i}\\,\\Gamma\\,\\omega \\;-\\; R_{\\text{op}}^{2} \\;+\\; 2\\,\\mathrm{i}\\,R_{\\text{op}}\\,\\omega \\;+\\; \\omega^{2}} \\end{cases}\n",
    "$$\n",
    "\n",
    "With some reorganization of the terms, we get the following expression (and given $\\gamma B_0= \\omega_0$) : \n",
    "\n",
    "$$\\begin{cases} \\delta S_x = \\frac{B_0\\, R_{op}\\, S_0\\, \\gamma}{(\\Gamma + R_{op} + i \\omega)^2 - \\omega_0^2} , \\\\[8pt]\n",
    "                \\delta S_y = \\frac{\\frac{\\delta B_1}{2} e^{i \\Delta \\omega t}S_x }{i\\omega - (\\Gamma + R_{op})} , \\\\[8pt]\n",
    "                \\delta S_z = \\frac{-\\Gamma - R_{op} + i \\omega}{(\\Gamma + R_{op} + i \\omega)^2 - \\omega_0^2} R_{op}S_0 \\end{cases}$$"
   ]
  },
  {
   "cell_type": "markdown",
   "metadata": {},
   "source": [
    "Finally, injecting $S_x$ into $\\delta S_y$, we get:\n",
    "\n",
    "$$\n",
    "\\delta S_y = -\\frac{\\delta B_1}{2}\\, e^{i \\Delta \\omega t}\\, \\frac{R_{op} S_0 \\gamma B_0}{\\left[(\\omega_0)^2 - (\\Gamma + R_{op})^2\\right] \\left[i\\omega - (\\Gamma + R_{op})\\right]}.\n",
    "$$"
   ]
  },
  {
   "cell_type": "markdown",
   "metadata": {},
   "source": [
    "Now I must plot these three expressions as function of omega. Make a Bode Diagram (Real part as function of omega).\n"
   ]
  },
  {
   "cell_type": "code",
   "execution_count": null,
   "metadata": {},
   "outputs": [
    {
     "data": {
      "image/png": "[encoded data removed]",
      "text/plain": [
       "<Figure size 1000x500 with 1 Axes>"
      ]
     },
     "metadata": {},
     "output_type": "display_data"
    }
   ],
   "source": [
    "import numpy as np\n",
    "import matplotlib.pyplot as plt\n",
    "\n",
    "# Define constants\n",
    "gamma = 7e9\n",
    "Gamma = 2000\n",
    "R_op = 3e5\n",
    "B0 = 100e-6\n",
    "B1 = 1e-5\n",
    "S0 = 1\n",
    "\n",
    "# RF freq\n",
    "w = np.linspace(gamma * B0 - 1000, gamma * B0 + 1000, 1000)\n",
    "\n",
    "\n",
    "# Compute Sx for ONE frequency at a time\n",
    "denominator = (gamma * B0) ** 2 - (Gamma + R_op) ** 2\n",
    "Sx_real = []\n",
    "Sx_imag = []\n",
    "\n",
    "index = 500  # Pick a specific frequency index to analyze\n",
    "\n",
    "for t in t_eval:\n",
    "    Sx_t = (R_op * S0 * gamma * B0 / denominator) * np.exp(1j * (gamma*B0 - w[index]) * t)\n",
    "    Sx_real.append(Sx_t.real)\n",
    "    Sx_imag.append(Sx_t.imag)\n",
    "\n",
    "# Convert lists to NumPy arrays\n",
    "Sx_real = np.array(Sx_real)\n",
    "Sx_imag = np.array(Sx_imag)\n",
    "\n",
    "# **Limit to the first 0.1 ms**\n",
    "t_limit = 0.1e-3  # 0.1 ms\n",
    "mask = t_eval <= t_limit  # Mask to select only the first 0.1 ms\n",
    "\n",
    "# Plot results\n",
    "plt.figure(figsize=(10, 5))\n",
    "plt.plot(t_eval[mask] * 1e3, Sx_real[mask], label=r\"Re$(S_x)$\", color=\"b\")  # Convert time to ms\n",
    "plt.plot(t_eval[mask] * 1e3, Sx_imag[mask], label=r\"Im$(S_x)$\", color=\"r\", linestyle=\"dashed\")\n",
    "\n",
    "# Labels and legend\n",
    "plt.xlabel(\"Time (ms)\")\n",
    "plt.ylabel(r\"$S_x$\")\n",
    "plt.title(f\"Spin Dynamics for $w$ = {w[index]:.2e} rad/s (First 0.1 ms)\")\n",
    "plt.legend()\n",
    "plt.grid()\n",
    "plt.show()\n"
   ]
  }
 ],
 "metadata": {
  "kernelspec": {
   "display_name": "Python 3",
   "language": "python",
   "name": "python3"
  },
  "language_info": {
   "codemirror_mode": {
    "name": "ipython",
    "version": 3
   },
   "file_extension": ".py",
   "mimetype": "text/x-python",
   "name": "python",
   "nbconvert_exporter": "python",
   "pygments_lexer": "ipython3",
   "version": "3.11.9"
  }
 },
 "nbformat": 4,
 "nbformat_minor": 2
}
